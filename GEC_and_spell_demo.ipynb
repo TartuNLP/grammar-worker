{
  "nbformat": 4,
  "nbformat_minor": 0,
  "metadata": {
    "colab": {
      "provenance": [],
      "authorship_tag": "ABX9TyMyqrXd60E7KcMOrQ8Bt/kM",
      "include_colab_link": true
    },
    "kernelspec": {
      "name": "python3",
      "display_name": "Python 3"
    },
    "language_info": {
      "name": "python"
    }
  },
  "cells": [
    {
      "cell_type": "markdown",
      "metadata": {
        "id": "view-in-github",
        "colab_type": "text"
      },
      "source": [
        "<a href=\"https://colab.research.google.com/github/TartuNLP/grammar-worker/blob/gec-and-spell/GEC_and_spell_demo.ipynb\" target=\"_parent\"><img src=\"https://colab.research.google.com/assets/colab-badge.svg\" alt=\"Open In Colab\"/></a>"
      ]
    },
    {
      "cell_type": "code",
      "execution_count": 1,
      "metadata": {
        "colab": {
          "base_uri": "https://localhost:8080/"
        },
        "id": "1yRSNzEd5OWl",
        "outputId": "c4545f71-9c67-4e09-974f-c755c31465cf"
      },
      "outputs": [
        {
          "output_type": "stream",
          "name": "stdout",
          "text": [
            "Cloning into 'grammar-worker'...\n",
            "remote: Enumerating objects: 226, done.\u001b[K\n",
            "remote: Counting objects: 100% (226/226), done.\u001b[K\n",
            "remote: Compressing objects: 100% (154/154), done.\u001b[K\n",
            "remote: Total 226 (delta 115), reused 149 (delta 59), pack-reused 0\u001b[K\n",
            "Receiving objects: 100% (226/226), 54.56 KiB | 7.79 MiB/s, done.\n",
            "Resolving deltas: 100% (115/115), done.\n",
            "/content/grammar-worker\n",
            "Branch 'gec-and-spell' set up to track remote branch 'gec-and-spell' from 'origin'.\n",
            "Switched to a new branch 'gec-and-spell'\n",
            "Looking in indexes: https://pypi.org/simple, https://us-python.pkg.dev/colab-wheels/public/simple/\n",
            "Collecting git+https://github.com/TartuNLP/fairseq.git@mtee-0.1.0 (from -r requirements.txt (line 7))\n",
            "  Cloning https://github.com/TartuNLP/fairseq.git (to revision mtee-0.1.0) to /tmp/pip-req-build-flaion02\n",
            "  Running command git clone --filter=blob:none --quiet https://github.com/TartuNLP/fairseq.git /tmp/pip-req-build-flaion02\n",
            "  Running command git checkout -q 1a6f364b8af6e746dd1fc623c8cf670a0be5b696\n",
            "  Resolved https://github.com/TartuNLP/fairseq.git to commit 1a6f364b8af6e746dd1fc623c8cf670a0be5b696\n",
            "  Running command git submodule update --init --recursive -q\n",
            "  From https://github.com/ngoyal2707/Megatron-LM\n",
            "   * branch            adb23324c222aad0aad89308e70302d996a5eaeb -> FETCH_HEAD\n",
            "  Installing build dependencies ... \u001b[?25l\u001b[?25hdone\n",
            "  Getting requirements to build wheel ... \u001b[?25l\u001b[?25hdone\n",
            "  Installing backend dependencies ... \u001b[?25l\u001b[?25hdone\n",
            "  Preparing metadata (pyproject.toml) ... \u001b[?25l\u001b[?25hdone\n",
            "Requirement already satisfied: nltk~=3.7 in /usr/local/lib/python3.9/dist-packages (from -r requirements.txt (line 1)) (3.7)\n",
            "Requirement already satisfied: torch==1.13.1 in /usr/local/lib/python3.9/dist-packages (from -r requirements.txt (line 2)) (1.13.1+cu116)\n",
            "Requirement already satisfied: torchvision==0.14.1 in /usr/local/lib/python3.9/dist-packages (from -r requirements.txt (line 3)) (0.14.1+cu116)\n",
            "Requirement already satisfied: torchaudio==0.13.1 in /usr/local/lib/python3.9/dist-packages (from -r requirements.txt (line 4)) (0.13.1+cu116)\n",
            "Requirement already satisfied: pyyaml==6.0 in /usr/local/lib/python3.9/dist-packages (from -r requirements.txt (line 5)) (6.0)\n",
            "Collecting pika==1.3.1\n",
            "  Downloading pika-1.3.1-py3-none-any.whl (155 kB)\n",
            "\u001b[2K     \u001b[90m━━━━━━━━━━━━━━━━━━━━━━━━━━━━━━━━━━━━━━\u001b[0m \u001b[32m155.3/155.3 KB\u001b[0m \u001b[31m10.5 MB/s\u001b[0m eta \u001b[36m0:00:00\u001b[0m\n",
            "\u001b[?25hCollecting sentencepiece==0.1.97\n",
            "  Downloading sentencepiece-0.1.97-cp39-cp39-manylinux_2_17_x86_64.manylinux2014_x86_64.whl (1.3 MB)\n",
            "\u001b[2K     \u001b[90m━━━━━━━━━━━━━━━━━━━━━━━━━━━━━━━━━━━━━━━━\u001b[0m \u001b[32m1.3/1.3 MB\u001b[0m \u001b[31m60.4 MB/s\u001b[0m eta \u001b[36m0:00:00\u001b[0m\n",
            "\u001b[?25hRequirement already satisfied: pydantic~=1.10.5 in /usr/local/lib/python3.9/dist-packages (from -r requirements.txt (line 9)) (1.10.5)\n",
            "Collecting fastapi~=0.92.0\n",
            "  Downloading fastapi-0.92.0-py3-none-any.whl (56 kB)\n",
            "\u001b[2K     \u001b[90m━━━━━━━━━━━━━━━━━━━━━━━━━━━━━━━━━━━━━━━━\u001b[0m \u001b[32m56.2/56.2 KB\u001b[0m \u001b[31m2.5 MB/s\u001b[0m eta \u001b[36m0:00:00\u001b[0m\n",
            "\u001b[?25hCollecting uvicorn~=0.20.0\n",
            "  Downloading uvicorn-0.20.0-py3-none-any.whl (56 kB)\n",
            "\u001b[2K     \u001b[90m━━━━━━━━━━━━━━━━━━━━━━━━━━━━━━━━━━━━━━━━\u001b[0m \u001b[32m56.9/56.9 KB\u001b[0m \u001b[31m7.3 MB/s\u001b[0m eta \u001b[36m0:00:00\u001b[0m\n",
            "\u001b[?25hRequirement already satisfied: numpy<1.24.0 in /usr/local/lib/python3.9/dist-packages (from -r requirements.txt (line 12)) (1.22.4)\n",
            "Collecting swig~=3.0.2\n",
            "  Downloading swig-3.0.12-py2.py3-none-manylinux_2_5_x86_64.manylinux1_x86_64.whl (3.5 MB)\n",
            "\u001b[2K     \u001b[90m━━━━━━━━━━━━━━━━━━━━━━━━━━━━━━━━━━━━━━━━\u001b[0m \u001b[32m3.5/3.5 MB\u001b[0m \u001b[31m81.3 MB/s\u001b[0m eta \u001b[36m0:00:00\u001b[0m\n",
            "\u001b[?25hCollecting jamspell~=0.0.12\n",
            "  Downloading jamspell-0.0.12.tar.gz (174 kB)\n",
            "\u001b[2K     \u001b[90m━━━━━━━━━━━━━━━━━━━━━━━━━━━━━━━━━━━━━━\u001b[0m \u001b[32m174.3/174.3 KB\u001b[0m \u001b[31m22.5 MB/s\u001b[0m eta \u001b[36m0:00:00\u001b[0m\n",
            "\u001b[?25h  Preparing metadata (setup.py) ... \u001b[?25l\u001b[?25hdone\n",
            "Collecting mosestokenizer~=1.2.1\n",
            "  Downloading mosestokenizer-1.2.1.tar.gz (37 kB)\n",
            "  Preparing metadata (setup.py) ... \u001b[?25l\u001b[?25hdone\n",
            "Requirement already satisfied: typing-extensions in /usr/local/lib/python3.9/dist-packages (from torch==1.13.1->-r requirements.txt (line 2)) (4.5.0)\n",
            "Requirement already satisfied: pillow!=8.3.*,>=5.3.0 in /usr/local/lib/python3.9/dist-packages (from torchvision==0.14.1->-r requirements.txt (line 3)) (8.4.0)\n",
            "Requirement already satisfied: requests in /usr/local/lib/python3.9/dist-packages (from torchvision==0.14.1->-r requirements.txt (line 3)) (2.25.1)\n",
            "Requirement already satisfied: click in /usr/local/lib/python3.9/dist-packages (from nltk~=3.7->-r requirements.txt (line 1)) (8.1.3)\n",
            "Requirement already satisfied: joblib in /usr/local/lib/python3.9/dist-packages (from nltk~=3.7->-r requirements.txt (line 1)) (1.2.0)\n",
            "Requirement already satisfied: regex>=2021.8.3 in /usr/local/lib/python3.9/dist-packages (from nltk~=3.7->-r requirements.txt (line 1)) (2022.6.2)\n",
            "Requirement already satisfied: tqdm in /usr/local/lib/python3.9/dist-packages (from nltk~=3.7->-r requirements.txt (line 1)) (4.65.0)\n",
            "Collecting sacrebleu>=1.4.12\n",
            "  Downloading sacrebleu-2.3.1-py3-none-any.whl (118 kB)\n",
            "\u001b[2K     \u001b[90m━━━━━━━━━━━━━━━━━━━━━━━━━━━━━━━━━━━━━━\u001b[0m \u001b[32m118.9/118.9 KB\u001b[0m \u001b[31m15.9 MB/s\u001b[0m eta \u001b[36m0:00:00\u001b[0m\n",
            "\u001b[?25hRequirement already satisfied: cython in /usr/local/lib/python3.9/dist-packages (from fairseq==1.0.0a0+1a6f364->-r requirements.txt (line 7)) (0.29.33)\n",
            "Collecting omegaconf<2.1\n",
            "  Downloading omegaconf-2.0.6-py3-none-any.whl (36 kB)\n",
            "Collecting bitarray\n",
            "  Downloading bitarray-2.7.3-cp39-cp39-manylinux_2_17_x86_64.manylinux2014_x86_64.whl (269 kB)\n",
            "\u001b[2K     \u001b[90m━━━━━━━━━━━━━━━━━━━━━━━━━━━━━━━━━━━━━━\u001b[0m \u001b[32m269.6/269.6 KB\u001b[0m \u001b[31m27.7 MB/s\u001b[0m eta \u001b[36m0:00:00\u001b[0m\n",
            "\u001b[?25hCollecting hydra-core<1.1,>=1.0.7\n",
            "  Downloading hydra_core-1.0.7-py3-none-any.whl (123 kB)\n",
            "\u001b[2K     \u001b[90m━━━━━━━━━━━━━━━━━━━━━━━━━━━━━━━━━━━━━━\u001b[0m \u001b[32m123.8/123.8 KB\u001b[0m \u001b[31m10.4 MB/s\u001b[0m eta \u001b[36m0:00:00\u001b[0m\n",
            "\u001b[?25hRequirement already satisfied: cffi in /usr/local/lib/python3.9/dist-packages (from fairseq==1.0.0a0+1a6f364->-r requirements.txt (line 7)) (1.15.1)\n",
            "Collecting starlette<0.26.0,>=0.25.0\n",
            "  Downloading starlette-0.25.0-py3-none-any.whl (66 kB)\n",
            "\u001b[2K     \u001b[90m━━━━━━━━━━━━━━━━━━━━━━━━━━━━━━━━━━━━━━━━\u001b[0m \u001b[32m66.4/66.4 KB\u001b[0m \u001b[31m8.7 MB/s\u001b[0m eta \u001b[36m0:00:00\u001b[0m\n",
            "\u001b[?25hCollecting h11>=0.8\n",
            "  Downloading h11-0.14.0-py3-none-any.whl (58 kB)\n",
            "\u001b[2K     \u001b[90m━━━━━━━━━━━━━━━━━━━━━━━━━━━━━━━━━━━━━━━━\u001b[0m \u001b[32m58.3/58.3 KB\u001b[0m \u001b[31m8.3 MB/s\u001b[0m eta \u001b[36m0:00:00\u001b[0m\n",
            "\u001b[?25hCollecting docopt\n",
            "  Downloading docopt-0.6.2.tar.gz (25 kB)\n",
            "  Preparing metadata (setup.py) ... \u001b[?25l\u001b[?25hdone\n",
            "Collecting openfile\n",
            "  Downloading openfile-0.0.7-py3-none-any.whl (2.4 kB)\n",
            "Collecting uctools\n",
            "  Downloading uctools-1.3.0.tar.gz (4.6 kB)\n",
            "  Preparing metadata (setup.py) ... \u001b[?25l\u001b[?25hdone\n",
            "Collecting toolwrapper\n",
            "  Downloading toolwrapper-2.1.0.tar.gz (3.2 kB)\n",
            "  Preparing metadata (setup.py) ... \u001b[?25l\u001b[?25hdone\n",
            "Collecting antlr4-python3-runtime==4.8\n",
            "  Downloading antlr4-python3-runtime-4.8.tar.gz (112 kB)\n",
            "\u001b[2K     \u001b[90m━━━━━━━━━━━━━━━━━━━━━━━━━━━━━━━━━━━━━━\u001b[0m \u001b[32m112.4/112.4 KB\u001b[0m \u001b[31m14.6 MB/s\u001b[0m eta \u001b[36m0:00:00\u001b[0m\n",
            "\u001b[?25h  Preparing metadata (setup.py) ... \u001b[?25l\u001b[?25hdone\n",
            "Requirement already satisfied: tabulate>=0.8.9 in /usr/local/lib/python3.9/dist-packages (from sacrebleu>=1.4.12->fairseq==1.0.0a0+1a6f364->-r requirements.txt (line 7)) (0.8.10)\n",
            "Collecting portalocker\n",
            "  Downloading portalocker-2.7.0-py2.py3-none-any.whl (15 kB)\n",
            "Requirement already satisfied: lxml in /usr/local/lib/python3.9/dist-packages (from sacrebleu>=1.4.12->fairseq==1.0.0a0+1a6f364->-r requirements.txt (line 7)) (4.9.2)\n",
            "Collecting colorama\n",
            "  Downloading colorama-0.4.6-py2.py3-none-any.whl (25 kB)\n",
            "Collecting anyio<5,>=3.4.0\n",
            "  Downloading anyio-3.6.2-py3-none-any.whl (80 kB)\n",
            "\u001b[2K     \u001b[90m━━━━━━━━━━━━━━━━━━━━━━━━━━━━━━━━━━━━━━━━\u001b[0m \u001b[32m80.6/80.6 KB\u001b[0m \u001b[31m8.9 MB/s\u001b[0m eta \u001b[36m0:00:00\u001b[0m\n",
            "\u001b[?25hRequirement already satisfied: pycparser in /usr/local/lib/python3.9/dist-packages (from cffi->fairseq==1.0.0a0+1a6f364->-r requirements.txt (line 7)) (2.21)\n",
            "Requirement already satisfied: idna<3,>=2.5 in /usr/local/lib/python3.9/dist-packages (from requests->torchvision==0.14.1->-r requirements.txt (line 3)) (2.10)\n",
            "Requirement already satisfied: chardet<5,>=3.0.2 in /usr/local/lib/python3.9/dist-packages (from requests->torchvision==0.14.1->-r requirements.txt (line 3)) (4.0.0)\n",
            "Requirement already satisfied: urllib3<1.27,>=1.21.1 in /usr/local/lib/python3.9/dist-packages (from requests->torchvision==0.14.1->-r requirements.txt (line 3)) (1.26.14)\n",
            "Requirement already satisfied: certifi>=2017.4.17 in /usr/local/lib/python3.9/dist-packages (from requests->torchvision==0.14.1->-r requirements.txt (line 3)) (2022.12.7)\n",
            "Collecting sniffio>=1.1\n",
            "  Downloading sniffio-1.3.0-py3-none-any.whl (10 kB)\n",
            "Building wheels for collected packages: fairseq, jamspell, mosestokenizer, antlr4-python3-runtime, docopt, toolwrapper, uctools\n",
            "  Building wheel for fairseq (pyproject.toml) ... \u001b[?25l\u001b[?25hdone\n",
            "  Created wheel for fairseq: filename=fairseq-1.0.0a0+1a6f364-cp39-cp39-linux_x86_64.whl size=11811478 sha256=6331ba6044b2cb6cd6e677b687b128467ac0cb28af6d1f8b69d0b83cd4e03235\n",
            "  Stored in directory: /tmp/pip-ephem-wheel-cache-gbzy0dlq/wheels/7c/2f/88/80eacebb296174bb5a81ad8d4de3e3e200ffb0342161d57b95\n",
            "  \u001b[1;31merror\u001b[0m: \u001b[1msubprocess-exited-with-error\u001b[0m\n",
            "  \n",
            "  \u001b[31m×\u001b[0m \u001b[32mpython setup.py bdist_wheel\u001b[0m did not run successfully.\n",
            "  \u001b[31m│\u001b[0m exit code: \u001b[1;36m1\u001b[0m\n",
            "  \u001b[31m╰─>\u001b[0m See above for output.\n",
            "  \n",
            "  \u001b[1;35mnote\u001b[0m: This error originates from a subprocess, and is likely not a problem with pip.\n",
            "  Building wheel for jamspell (setup.py) ... \u001b[?25lerror\n",
            "\u001b[31m  ERROR: Failed building wheel for jamspell\u001b[0m\u001b[31m\n",
            "\u001b[0m\u001b[?25h  Running setup.py clean for jamspell\n",
            "  Building wheel for mosestokenizer (setup.py) ... \u001b[?25l\u001b[?25hdone\n",
            "  Created wheel for mosestokenizer: filename=mosestokenizer-1.2.1-py3-none-any.whl size=49188 sha256=35b86acca990582c8d8c8b579e62a17eb7618e5c193faa32b50a0d9e45aa47f2\n",
            "  Stored in directory: /root/.cache/pip/wheels/4b/1d/ca/6fb2622d3cec30ae4142be1e1ece4f879ef5efadd6a25b75f0\n",
            "  Building wheel for antlr4-python3-runtime (setup.py) ... \u001b[?25l\u001b[?25hdone\n",
            "  Created wheel for antlr4-python3-runtime: filename=antlr4_python3_runtime-4.8-py3-none-any.whl size=141231 sha256=a15daa154f586513cb0c9085e4efe7c29f5d9fc4f7832455d1b95e97b5f6f215\n",
            "  Stored in directory: /root/.cache/pip/wheels/42/3c/ae/14db087e6018de74810afe32eb6ac890ef9c68ba19b00db97a\n",
            "  Building wheel for docopt (setup.py) ... \u001b[?25l\u001b[?25hdone\n",
            "  Created wheel for docopt: filename=docopt-0.6.2-py2.py3-none-any.whl size=13723 sha256=47c6464b377b11a58972011b56b5991ab2e5536d39c2bff50832d703d12b3cf6\n",
            "  Stored in directory: /root/.cache/pip/wheels/70/4a/46/1309fc853b8d395e60bafaf1b6df7845bdd82c95fd59dd8d2b\n",
            "  Building wheel for toolwrapper (setup.py) ... \u001b[?25l\u001b[?25hdone\n",
            "  Created wheel for toolwrapper: filename=toolwrapper-2.1.0-py3-none-any.whl size=3353 sha256=a3834fa17ccd61f38558a08810e0b2dbcaf74313047f7eabc573d2366c3becb4\n",
            "  Stored in directory: /root/.cache/pip/wheels/7f/fb/ad/2b280cddd52c15c21ac9599c2661fe8aec93778fb35da77c7f\n",
            "  Building wheel for uctools (setup.py) ... \u001b[?25l\u001b[?25hdone\n",
            "  Created wheel for uctools: filename=uctools-1.3.0-py3-none-any.whl size=6162 sha256=3442714ae3b0f5ac26f885b7403811d5df0ece4ce237c88be92e82b223cd9c23\n",
            "  Stored in directory: /root/.cache/pip/wheels/58/34/ff/68e3afc33b6758aeef228ea97955d8f79f125b91d9d45a09ae\n",
            "Successfully built fairseq mosestokenizer antlr4-python3-runtime docopt toolwrapper uctools\n",
            "Failed to build jamspell\n",
            "Installing collected packages: toolwrapper, swig, sentencepiece, openfile, jamspell, docopt, bitarray, antlr4-python3-runtime, uctools, sniffio, portalocker, pika, omegaconf, h11, colorama, uvicorn, sacrebleu, mosestokenizer, hydra-core, anyio, starlette, fairseq, fastapi\n",
            "  Running setup.py install for jamspell ... \u001b[?25l\u001b[?25hdone\n",
            "\u001b[33m  DEPRECATION: jamspell was installed using the legacy 'setup.py install' method, because a wheel could not be built for it. A possible replacement is to fix the wheel build issue reported above. Discussion can be found at https://github.com/pypa/pip/issues/8368\u001b[0m\u001b[33m\n",
            "\u001b[0mSuccessfully installed antlr4-python3-runtime-4.8 anyio-3.6.2 bitarray-2.7.3 colorama-0.4.6 docopt-0.6.2 fairseq-1.0.0a0+1a6f364 fastapi-0.92.0 h11-0.14.0 hydra-core-1.0.7 jamspell-0.0.12 mosestokenizer-1.2.1 omegaconf-2.0.6 openfile-0.0.7 pika-1.3.1 portalocker-2.7.0 sacrebleu-2.3.1 sentencepiece-0.1.97 sniffio-1.3.0 starlette-0.25.0 swig-3.0.12 toolwrapper-2.1.0 uctools-1.3.0 uvicorn-0.20.0\n",
            "[nltk_data] Downloading package punkt to /root/nltk_data...\n",
            "[nltk_data]   Unzipping tokenizers/punkt.zip.\n"
          ]
        }
      ],
      "source": [
        "! git clone https://github.com/TartuNLP/grammar-worker.git\n",
        "%cd grammar-worker\n",
        "! git checkout gec-and-spell\n",
        "! pip install -r requirements.txt\n",
        "! python -c \"import nltk; nltk.download(\\\"punkt\\\")\""
      ]
    },
    {
      "cell_type": "code",
      "source": [
        "# kui mudelid kusagil mujal, saab ära vahetada\n",
        "! git lfs install\n",
        "! cd models && git clone https://huggingface.co/agnesluhtaru/GEC-noisy-nmt-ut\n",
        "! cd models && git clone https://huggingface.co/agnesluhtaru/GEC-synthetic-pretrain-ut-ft\n",
        "! mkdir models/spellmodels\n",
        "! cd models/spellmodels && wget https://minitorn.tlu.ee/keelemudelid/etnc19_reference_corpus_model_6000000_lines.bin\n",
        "! cd models/spellmodels && wget https://minitorn.tlu.ee/keelemudelid/etnc19_web_2019.bin\n",
        "! cd models/spellmodels && wget https://minitorn.tlu.ee/keelemudelid/etnc19_reference_corpus_6000000_web_2019_600000.bin\n"
      ],
      "metadata": {
        "colab": {
          "base_uri": "https://localhost:8080/"
        },
        "id": "Az5q9Jz27U3L",
        "outputId": "8650bd26-b06d-4a2e-8c1a-5d021543ef9e"
      },
      "execution_count": 2,
      "outputs": [
        {
          "output_type": "stream",
          "name": "stdout",
          "text": [
            "Updated git hooks.\n",
            "Git LFS initialized.\n",
            "Cloning into 'GEC-noisy-nmt-ut'...\n",
            "remote: Enumerating objects: 19, done.\u001b[K\n",
            "remote: Counting objects: 100% (19/19), done.\u001b[K\n",
            "remote: Compressing objects: 100% (18/18), done.\u001b[K\n",
            "remote: Total 19 (delta 5), reused 0 (delta 0), pack-reused 0\u001b[K\n",
            "Unpacking objects: 100% (19/19), 63.25 KiB | 5.75 MiB/s, done.\n",
            "Cloning into 'GEC-synthetic-pretrain-ut-ft'...\n",
            "remote: Enumerating objects: 21, done.\u001b[K\n",
            "remote: Counting objects: 100% (21/21), done.\u001b[K\n",
            "remote: Compressing objects: 100% (20/20), done.\u001b[K\n",
            "remote: Total 21 (delta 6), reused 0 (delta 0), pack-reused 0\u001b[K\n",
            "Unpacking objects: 100% (21/21), 63.46 KiB | 5.29 MiB/s, done.\n",
            "Filtering content: 100% (4/4), 828.89 MiB | 50.28 MiB/s, done.\n",
            "mkdir: cannot create directory ‘models/spellmodels’: File exists\n",
            "--2023-03-13 09:48:47--  https://minitorn.tlu.ee/keelemudelid/etnc19_reference_corpus_model_6000000_lines.bin\n",
            "Resolving minitorn.tlu.ee (minitorn.tlu.ee)... 193.40.238.40\n",
            "Connecting to minitorn.tlu.ee (minitorn.tlu.ee)|193.40.238.40|:443... connected.\n",
            "HTTP request sent, awaiting response... 200 OK\n",
            "Length: 615058971 (587M) [application/octet-stream]\n",
            "Saving to: ‘etnc19_reference_corpus_model_6000000_lines.bin’\n",
            "\n",
            "etnc19_reference_co 100%[===================>] 586.57M  24.2MB/s    in 27s     \n",
            "\n",
            "2023-03-13 09:49:15 (21.3 MB/s) - ‘etnc19_reference_corpus_model_6000000_lines.bin’ saved [615058971/615058971]\n",
            "\n",
            "--2023-03-13 09:49:15--  https://minitorn.tlu.ee/keelemudelid/etnc19_web_2019.bin\n",
            "Resolving minitorn.tlu.ee (minitorn.tlu.ee)... 193.40.238.40\n",
            "Connecting to minitorn.tlu.ee (minitorn.tlu.ee)|193.40.238.40|:443... connected.\n",
            "HTTP request sent, awaiting response... 200 OK\n",
            "Length: 2798383515 (2.6G) [application/octet-stream]\n",
            "Saving to: ‘etnc19_web_2019.bin’\n",
            "\n",
            "etnc19_web_2019.bin 100%[===================>]   2.61G  27.3MB/s    in 1m 44s  \n",
            "\n",
            "2023-03-13 09:51:00 (25.7 MB/s) - ‘etnc19_web_2019.bin’ saved [2798383515/2798383515]\n",
            "\n",
            "--2023-03-13 09:51:00--  https://minitorn.tlu.ee/keelemudelid/etnc19_reference_corpus_6000000_web_2019_600000.bin\n",
            "Resolving minitorn.tlu.ee (minitorn.tlu.ee)... 193.40.238.40\n",
            "Connecting to minitorn.tlu.ee (minitorn.tlu.ee)|193.40.238.40|:443... connected.\n",
            "HTTP request sent, awaiting response... 200 OK\n",
            "Length: 670057143 (639M) [application/octet-stream]\n",
            "Saving to: ‘etnc19_reference_corpus_6000000_web_2019_600000.bin’\n",
            "\n",
            "etnc19_reference_co 100%[===================>] 639.02M  27.4MB/s    in 27s     \n",
            "\n",
            "2023-03-13 09:51:28 (23.3 MB/s) - ‘etnc19_reference_corpus_6000000_web_2019_600000.bin’ saved [670057143/670057143]\n",
            "\n"
          ]
        }
      ]
    },
    {
      "cell_type": "code",
      "source": [
        "from pprint import pprint\n",
        "from dataclasses import asdict\n",
        "from gec_worker import GEC, read_model_config\n",
        "from gec_worker import spelling\n",
        "from gec_worker.dataclasses import Response, Request\n",
        "from gec_worker import multiple_corrections"
      ],
      "metadata": {
        "id": "yYqG3Yi45jPd",
        "colab": {
          "base_uri": "https://localhost:8080/"
        },
        "outputId": "1e749799-6d91-420c-82f5-17e2f839a373"
      },
      "execution_count": 3,
      "outputs": [
        {
          "output_type": "stream",
          "name": "stderr",
          "text": [
            "/usr/local/lib/python3.9/dist-packages/torch/cuda/__init__.py:497: UserWarning: Can't initialize NVML\n",
            "  warnings.warn(\"Can't initialize NVML\")\n"
          ]
        }
      ]
    },
    {
      "cell_type": "code",
      "source": [
        "# Load grammatical error correction model\n",
        "!ls models\n",
        "# model_config = read_model_config('models/GEC-synthetic-pretrain-ut-ft-config.yaml')\n",
        "model_config = read_model_config('models/GEC-noisy-nmt-ut-config.yaml')\n",
        "gec = GEC(model_config)"
      ],
      "metadata": {
        "id": "cOEDlt7I6ceg",
        "colab": {
          "base_uri": "https://localhost:8080/"
        },
        "outputId": "16322e2b-0916-40c7-f444-a21ad88979b1"
      },
      "execution_count": 4,
      "outputs": [
        {
          "output_type": "stream",
          "name": "stdout",
          "text": [
            "GEC-noisy-nmt-ut\t      GEC-synthetic-pretrain-ut-ft-config.yaml\n",
            "GEC-noisy-nmt-ut-config.yaml  README.md\n",
            "GEC-synthetic-pretrain-ut-ft  spellmodels\n"
          ]
        }
      ]
    },
    {
      "cell_type": "code",
      "source": [
        "# Load spelling model, takes time \n",
        "speller = spelling.Spelling(\"etnc19_reference_corpus_6000000_web_2019_600000.bin\")"
      ],
      "metadata": {
        "id": "DyeHWOwm7eT1"
      },
      "execution_count": 5,
      "outputs": []
    },
    {
      "cell_type": "code",
      "source": [
        "# Make model list and add models\n",
        "model_list = multiple_corrections.MultipleCorrections()\n",
        "model_list.add_corrector(speller)\n",
        "model_list.add_corrector(gec)"
      ],
      "metadata": {
        "id": "Ta3tn9SW7ksk"
      },
      "execution_count": 6,
      "outputs": []
    },
    {
      "cell_type": "code",
      "source": [
        "# Input data\n",
        "source_text=\"Ükss väega vikase lause olema see\"\n",
        "request = Request(text=source_text, language='et')"
      ],
      "metadata": {
        "id": "IHNv-0qp_2T_"
      },
      "execution_count": 7,
      "outputs": []
    },
    {
      "cell_type": "code",
      "source": [
        "# Only speller \n",
        "\n",
        "response = speller.process_request(request)\n",
        "pprint(asdict(response))\n",
        "response.corrected_text"
      ],
      "metadata": {
        "colab": {
          "base_uri": "https://localhost:8080/",
          "height": 174
        },
        "id": "3VXw6Z4UggQ_",
        "outputId": "89373d11-789a-4927-93bd-0e262dac2fc9"
      },
      "execution_count": 8,
      "outputs": [
        {
          "output_type": "stream",
          "name": "stdout",
          "text": [
            "{'corrected_text': 'Üks väega vigase lause olema see',\n",
            " 'corrections': [{'replacements': [{'value': 'Üks'}],\n",
            "                  'span': {'end': 4, 'start': 0, 'value': 'Ükss'}},\n",
            "                 {'replacements': [{'value': 'vigase'}],\n",
            "                  'span': {'end': 17, 'start': 11, 'value': 'vikase'}}],\n",
            " 'original_text': 'Ükss väega vikase lause olema see',\n",
            " 'status': 'OK',\n",
            " 'status_code': 200}\n"
          ]
        },
        {
          "output_type": "execute_result",
          "data": {
            "text/plain": [
              "'Üks väega vigase lause olema see'"
            ],
            "application/vnd.google.colaboratory.intrinsic+json": {
              "type": "string"
            }
          },
          "metadata": {},
          "execution_count": 8
        }
      ]
    },
    {
      "cell_type": "code",
      "source": [
        "# Only gec\n",
        "\n",
        "response = gec.process_request(request)\n",
        "pprint(asdict(response))\n",
        "response.corrected_text"
      ],
      "metadata": {
        "colab": {
          "base_uri": "https://localhost:8080/",
          "height": 174
        },
        "id": "sOie7rcGgXgL",
        "outputId": "da537bb3-8118-49b0-82d5-646a0d68ec8a"
      },
      "execution_count": 9,
      "outputs": [
        {
          "output_type": "stream",
          "name": "stdout",
          "text": [
            "{'corrected_text': 'Üks vägeva vikase lause on see.',\n",
            " 'corrections': [{'replacements': [{'value': 'Üks vägeva'}],\n",
            "                  'span': {'end': 10, 'start': 0, 'value': 'Ükss väega'}},\n",
            "                 {'replacements': [{'value': 'on see.'}],\n",
            "                  'span': {'end': 33, 'start': 24, 'value': 'olema see'}}],\n",
            " 'original_text': 'Ükss väega vikase lause olema see',\n",
            " 'status': 'OK',\n",
            " 'status_code': 200}\n"
          ]
        },
        {
          "output_type": "execute_result",
          "data": {
            "text/plain": [
              "'Üks vägeva vikase lause on see.'"
            ],
            "application/vnd.google.colaboratory.intrinsic+json": {
              "type": "string"
            }
          },
          "metadata": {},
          "execution_count": 9
        }
      ]
    },
    {
      "cell_type": "code",
      "source": [
        "# Both\n",
        "response = model_list.process_request(request)\n",
        "pprint(asdict(response))\n",
        "response.corrected_text"
      ],
      "metadata": {
        "colab": {
          "base_uri": "https://localhost:8080/",
          "height": 209
        },
        "id": "IWq3RXgH7vJB",
        "outputId": "2579f4eb-0210-481f-8838-528b53f61878"
      },
      "execution_count": 10,
      "outputs": [
        {
          "output_type": "stream",
          "name": "stdout",
          "text": [
            "{'corrected_text': 'Üks väga vigane lause on see.',\n",
            " 'corrections': [{'replacements': [{'value': 'Üks väga vigane'}],\n",
            "                  'span': {'end': 17,\n",
            "                           'start': 0,\n",
            "                           'value': 'Ükss väega vikase'}},\n",
            "                 {'replacements': [{'value': 'on see.'}],\n",
            "                  'span': {'end': 33, 'start': 24, 'value': 'olema see'}}],\n",
            " 'original_text': 'Ükss väega vikase lause olema see',\n",
            " 'status': 'OK',\n",
            " 'status_code': 200}\n"
          ]
        },
        {
          "output_type": "execute_result",
          "data": {
            "text/plain": [
              "'Üks väga vigane lause on see.'"
            ],
            "application/vnd.google.colaboratory.intrinsic+json": {
              "type": "string"
            }
          },
          "metadata": {},
          "execution_count": 10
        }
      ]
    },
    {
      "cell_type": "code",
      "source": [
        "# Other GEC model\n",
        "\n",
        "model_config = read_model_config('models/GEC-synthetic-pretrain-ut-ft-config.yaml')\n",
        "# model_config = read_model_config('models/GEC-noisy-nmt-ut-config.yaml')\n",
        "gec = GEC(model_config)"
      ],
      "metadata": {
        "id": "Mkd3qDFbifnz"
      },
      "execution_count": 24,
      "outputs": []
    },
    {
      "cell_type": "code",
      "source": [
        "source_text_2=\"Ükss väega vikase lausele olema se siia\"\n",
        "request_2 = Request(text=source_text_2, language='et')\n",
        "\n",
        "response = gec.process_request(request_2)\n",
        "pprint(asdict(response))\n",
        "response.corrected_text"
      ],
      "metadata": {
        "colab": {
          "base_uri": "https://localhost:8080/",
          "height": 209
        },
        "id": "VuH4R4WbjUAW",
        "outputId": "2db396d6-b954-46da-f0d5-4c56c8d97ca3"
      },
      "execution_count": 25,
      "outputs": [
        {
          "output_type": "stream",
          "name": "stdout",
          "text": [
            "{'corrected_text': 'Üks väga vigane lause on see siin.',\n",
            " 'corrections': [{'replacements': [{'value': 'Üks väga vigane lause on see '\n",
            "                                             'siin.'}],\n",
            "                  'span': {'end': 39,\n",
            "                           'start': 0,\n",
            "                           'value': 'Ükss väega vikase lausele olema se '\n",
            "                                    'siia'}}],\n",
            " 'original_text': 'Ükss väega vikase lausele olema se siia',\n",
            " 'status': 'OK',\n",
            " 'status_code': 200}\n"
          ]
        },
        {
          "output_type": "execute_result",
          "data": {
            "text/plain": [
              "'Üks väga vigane lause on see siin.'"
            ],
            "application/vnd.google.colaboratory.intrinsic+json": {
              "type": "string"
            }
          },
          "metadata": {},
          "execution_count": 25
        }
      ]
    }
  ]
}