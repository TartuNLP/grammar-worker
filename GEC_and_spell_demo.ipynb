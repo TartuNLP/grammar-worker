{
  "cells": [
    {
      "cell_type": "markdown",
      "metadata": {
        "id": "view-in-github",
        "colab_type": "text"
      },
      "source": [
        "<a href=\"https://colab.research.google.com/github/TartuNLP/grammar-worker/blob/gec-and-spell/GEC_and_spell_demo.ipynb\" target=\"_parent\"><img src=\"https://colab.research.google.com/assets/colab-badge.svg\" alt=\"Open In Colab\"/></a>"
      ]
    },
    {
      "cell_type": "markdown",
      "source": [
        "# Spell-checking and Grammatical Error Correction Demo\n",
        "\n",
        "Demo for using [https://koodivaramu.eesti.ee/tartunlp/corrector](https://koodivaramu.eesti.ee/tartunlp/corrector) that corrects Estonian text using spell-checking and grammatical error correction (GEC) models. "
      ],
      "metadata": {
        "id": "Jho_ZS1rtJwS"
      }
    },
    {
      "cell_type": "markdown",
      "source": [
        "## Setup\n",
        "\n",
        "Clone the repo, install dependencies and download models."
      ],
      "metadata": {
        "id": "TfLyafy9tkvO"
      }
    },
    {
      "cell_type": "code",
      "execution_count": 1,
      "metadata": {
        "colab": {
          "base_uri": "https://localhost:8080/"
        },
        "id": "1yRSNzEd5OWl",
        "outputId": "08fadeb0-55c0-4943-8b26-7a720ea75ff6"
      },
      "outputs": [
        {
          "output_type": "stream",
          "name": "stdout",
          "text": [
            "Cloning into 'corrector'...\n",
            "remote: Enumerating objects: 273, done.\u001b[K\n",
            "remote: Counting objects: 100% (122/122), done.\u001b[K\n",
            "remote: Compressing objects: 100% (50/50), done.\u001b[K\n",
            "remote: Total 273 (delta 71), reused 122 (delta 71), pack-reused 151\u001b[K\n",
            "Receiving objects: 100% (273/273), 80.09 KiB | 942.00 KiB/s, done.\n",
            "Resolving deltas: 100% (137/137), done.\n",
            "/content/corrector\n",
            "Looking in indexes: https://pypi.org/simple, https://us-python.pkg.dev/colab-wheels/public/simple/\n",
            "Collecting git+https://github.com/TartuNLP/fairseq.git@mtee-0.1.0 (from -r requirements.txt (line 7))\n",
            "  Cloning https://github.com/TartuNLP/fairseq.git (to revision mtee-0.1.0) to /tmp/pip-req-build-e6trtnnk\n",
            "  Running command git clone --filter=blob:none --quiet https://github.com/TartuNLP/fairseq.git /tmp/pip-req-build-e6trtnnk\n",
            "  Running command git checkout -q 1a6f364b8af6e746dd1fc623c8cf670a0be5b696\n",
            "  Resolved https://github.com/TartuNLP/fairseq.git to commit 1a6f364b8af6e746dd1fc623c8cf670a0be5b696\n",
            "  Running command git submodule update --init --recursive -q\n",
            "  From https://github.com/ngoyal2707/Megatron-LM\n",
            "   * branch            adb23324c222aad0aad89308e70302d996a5eaeb -> FETCH_HEAD\n",
            "  Installing build dependencies ... \u001b[?25l\u001b[?25hdone\n",
            "  Getting requirements to build wheel ... \u001b[?25l\u001b[?25hdone\n",
            "  Installing backend dependencies ... \u001b[?25l\u001b[?25hdone\n",
            "  Preparing metadata (pyproject.toml) ... \u001b[?25l\u001b[?25hdone\n",
            "Requirement already satisfied: nltk~=3.7 in /usr/local/lib/python3.9/dist-packages (from -r requirements.txt (line 1)) (3.7)\n",
            "Requirement already satisfied: torch==1.13.1 in /usr/local/lib/python3.9/dist-packages (from -r requirements.txt (line 2)) (1.13.1+cu116)\n",
            "Requirement already satisfied: torchvision==0.14.1 in /usr/local/lib/python3.9/dist-packages (from -r requirements.txt (line 3)) (0.14.1+cu116)\n",
            "Requirement already satisfied: torchaudio==0.13.1 in /usr/local/lib/python3.9/dist-packages (from -r requirements.txt (line 4)) (0.13.1+cu116)\n",
            "Requirement already satisfied: pyyaml==6.0 in /usr/local/lib/python3.9/dist-packages (from -r requirements.txt (line 5)) (6.0)\n",
            "Collecting pika==1.3.1\n",
            "  Downloading pika-1.3.1-py3-none-any.whl (155 kB)\n",
            "\u001b[2K     \u001b[90m━━━━━━━━━━━━━━━━━━━━━━━━━━━━━━━━━━━━━━━\u001b[0m \u001b[32m155.3/155.3 KB\u001b[0m \u001b[31m9.8 MB/s\u001b[0m eta \u001b[36m0:00:00\u001b[0m\n",
            "\u001b[?25hCollecting sentencepiece==0.1.97\n",
            "  Downloading sentencepiece-0.1.97-cp39-cp39-manylinux_2_17_x86_64.manylinux2014_x86_64.whl (1.3 MB)\n",
            "\u001b[2K     \u001b[90m━━━━━━━━━━━━━━━━━━━━━━━━━━━━━━━━━━━━━━━━\u001b[0m \u001b[32m1.3/1.3 MB\u001b[0m \u001b[31m65.7 MB/s\u001b[0m eta \u001b[36m0:00:00\u001b[0m\n",
            "\u001b[?25hRequirement already satisfied: pydantic~=1.10.5 in /usr/local/lib/python3.9/dist-packages (from -r requirements.txt (line 9)) (1.10.6)\n",
            "Collecting fastapi~=0.92.0\n",
            "  Downloading fastapi-0.92.0-py3-none-any.whl (56 kB)\n",
            "\u001b[2K     \u001b[90m━━━━━━━━━━━━━━━━━━━━━━━━━━━━━━━━━━━━━━━━\u001b[0m \u001b[32m56.2/56.2 KB\u001b[0m \u001b[31m8.6 MB/s\u001b[0m eta \u001b[36m0:00:00\u001b[0m\n",
            "\u001b[?25hCollecting uvicorn~=0.20.0\n",
            "  Downloading uvicorn-0.20.0-py3-none-any.whl (56 kB)\n",
            "\u001b[2K     \u001b[90m━━━━━━━━━━━━━━━━━━━━━━━━━━━━━━━━━━━━━━━━\u001b[0m \u001b[32m56.9/56.9 KB\u001b[0m \u001b[31m7.8 MB/s\u001b[0m eta \u001b[36m0:00:00\u001b[0m\n",
            "\u001b[?25hRequirement already satisfied: numpy<1.24.0 in /usr/local/lib/python3.9/dist-packages (from -r requirements.txt (line 12)) (1.22.4)\n",
            "Collecting swig~=3.0.2\n",
            "  Downloading swig-3.0.12-py2.py3-none-manylinux_2_5_x86_64.manylinux1_x86_64.whl (3.5 MB)\n",
            "\u001b[2K     \u001b[90m━━━━━━━━━━━━━━━━━━━━━━━━━━━━━━━━━━━━━━━━\u001b[0m \u001b[32m3.5/3.5 MB\u001b[0m \u001b[31m95.4 MB/s\u001b[0m eta \u001b[36m0:00:00\u001b[0m\n",
            "\u001b[?25hCollecting jamspell~=0.0.12\n",
            "  Downloading jamspell-0.0.12.tar.gz (174 kB)\n",
            "\u001b[2K     \u001b[90m━━━━━━━━━━━━━━━━━━━━━━━━━━━━━━━━━━━━━━\u001b[0m \u001b[32m174.3/174.3 KB\u001b[0m \u001b[31m15.9 MB/s\u001b[0m eta \u001b[36m0:00:00\u001b[0m\n",
            "\u001b[?25h  Preparing metadata (setup.py) ... \u001b[?25l\u001b[?25hdone\n",
            "Collecting mosestokenizer~=1.2.1\n",
            "  Downloading mosestokenizer-1.2.1.tar.gz (37 kB)\n",
            "  Preparing metadata (setup.py) ... \u001b[?25l\u001b[?25hdone\n",
            "Requirement already satisfied: typing-extensions in /usr/local/lib/python3.9/dist-packages (from torch==1.13.1->-r requirements.txt (line 2)) (4.5.0)\n",
            "Requirement already satisfied: pillow!=8.3.*,>=5.3.0 in /usr/local/lib/python3.9/dist-packages (from torchvision==0.14.1->-r requirements.txt (line 3)) (8.4.0)\n",
            "Requirement already satisfied: requests in /usr/local/lib/python3.9/dist-packages (from torchvision==0.14.1->-r requirements.txt (line 3)) (2.25.1)\n",
            "Requirement already satisfied: tqdm in /usr/local/lib/python3.9/dist-packages (from nltk~=3.7->-r requirements.txt (line 1)) (4.65.0)\n",
            "Requirement already satisfied: joblib in /usr/local/lib/python3.9/dist-packages (from nltk~=3.7->-r requirements.txt (line 1)) (1.1.1)\n",
            "Requirement already satisfied: click in /usr/local/lib/python3.9/dist-packages (from nltk~=3.7->-r requirements.txt (line 1)) (8.1.3)\n",
            "Requirement already satisfied: regex>=2021.8.3 in /usr/local/lib/python3.9/dist-packages (from nltk~=3.7->-r requirements.txt (line 1)) (2022.6.2)\n",
            "Collecting hydra-core<1.1,>=1.0.7\n",
            "  Downloading hydra_core-1.0.7-py3-none-any.whl (123 kB)\n",
            "\u001b[2K     \u001b[90m━━━━━━━━━━━━━━━━━━━━━━━━━━━━━━━━━━━━━━\u001b[0m \u001b[32m123.8/123.8 KB\u001b[0m \u001b[31m17.9 MB/s\u001b[0m eta \u001b[36m0:00:00\u001b[0m\n",
            "\u001b[?25hCollecting bitarray\n",
            "  Downloading bitarray-2.7.3-cp39-cp39-manylinux_2_17_x86_64.manylinux2014_x86_64.whl (269 kB)\n",
            "\u001b[2K     \u001b[90m━━━━━━━━━━━━━━━━━━━━━━━━━━━━━━━━━━━━━━\u001b[0m \u001b[32m269.6/269.6 KB\u001b[0m \u001b[31m27.4 MB/s\u001b[0m eta \u001b[36m0:00:00\u001b[0m\n",
            "\u001b[?25hCollecting sacrebleu>=1.4.12\n",
            "  Downloading sacrebleu-2.3.1-py3-none-any.whl (118 kB)\n",
            "\u001b[2K     \u001b[90m━━━━━━━━━━━━━━━━━━━━━━━━━━━━━━━━━━━━━━\u001b[0m \u001b[32m118.9/118.9 KB\u001b[0m \u001b[31m18.4 MB/s\u001b[0m eta \u001b[36m0:00:00\u001b[0m\n",
            "\u001b[?25hRequirement already satisfied: cython in /usr/local/lib/python3.9/dist-packages (from fairseq==1.0.0a0+1a6f364->-r requirements.txt (line 7)) (0.29.33)\n",
            "Requirement already satisfied: cffi in /usr/local/lib/python3.9/dist-packages (from fairseq==1.0.0a0+1a6f364->-r requirements.txt (line 7)) (1.15.1)\n",
            "Collecting omegaconf<2.1\n",
            "  Downloading omegaconf-2.0.6-py3-none-any.whl (36 kB)\n",
            "Collecting starlette<0.26.0,>=0.25.0\n",
            "  Downloading starlette-0.25.0-py3-none-any.whl (66 kB)\n",
            "\u001b[2K     \u001b[90m━━━━━━━━━━━━━━━━━━━━━━━━━━━━━━━━━━━━━━━━\u001b[0m \u001b[32m66.4/66.4 KB\u001b[0m \u001b[31m10.0 MB/s\u001b[0m eta \u001b[36m0:00:00\u001b[0m\n",
            "\u001b[?25hCollecting h11>=0.8\n",
            "  Downloading h11-0.14.0-py3-none-any.whl (58 kB)\n",
            "\u001b[2K     \u001b[90m━━━━━━━━━━━━━━━━━━━━━━━━━━━━━━━━━━━━━━━━\u001b[0m \u001b[32m58.3/58.3 KB\u001b[0m \u001b[31m5.5 MB/s\u001b[0m eta \u001b[36m0:00:00\u001b[0m\n",
            "\u001b[?25hCollecting docopt\n",
            "  Downloading docopt-0.6.2.tar.gz (25 kB)\n",
            "  Preparing metadata (setup.py) ... \u001b[?25l\u001b[?25hdone\n",
            "Collecting openfile\n",
            "  Downloading openfile-0.0.7-py3-none-any.whl (2.4 kB)\n",
            "Collecting uctools\n",
            "  Downloading uctools-1.3.0.tar.gz (4.6 kB)\n",
            "  Preparing metadata (setup.py) ... \u001b[?25l\u001b[?25hdone\n",
            "Collecting toolwrapper\n",
            "  Downloading toolwrapper-2.1.0.tar.gz (3.2 kB)\n",
            "  Preparing metadata (setup.py) ... \u001b[?25l\u001b[?25hdone\n",
            "Collecting antlr4-python3-runtime==4.8\n",
            "  Downloading antlr4-python3-runtime-4.8.tar.gz (112 kB)\n",
            "\u001b[2K     \u001b[90m━━━━━━━━━━━━━━━━━━━━━━━━━━━━━━━━━━━━━━\u001b[0m \u001b[32m112.4/112.4 KB\u001b[0m \u001b[31m19.1 MB/s\u001b[0m eta \u001b[36m0:00:00\u001b[0m\n",
            "\u001b[?25h  Preparing metadata (setup.py) ... \u001b[?25l\u001b[?25hdone\n",
            "Collecting portalocker\n",
            "  Downloading portalocker-2.7.0-py2.py3-none-any.whl (15 kB)\n",
            "Collecting colorama\n",
            "  Downloading colorama-0.4.6-py2.py3-none-any.whl (25 kB)\n",
            "Requirement already satisfied: tabulate>=0.8.9 in /usr/local/lib/python3.9/dist-packages (from sacrebleu>=1.4.12->fairseq==1.0.0a0+1a6f364->-r requirements.txt (line 7)) (0.8.10)\n",
            "Requirement already satisfied: lxml in /usr/local/lib/python3.9/dist-packages (from sacrebleu>=1.4.12->fairseq==1.0.0a0+1a6f364->-r requirements.txt (line 7)) (4.9.2)\n",
            "Collecting anyio<5,>=3.4.0\n",
            "  Downloading anyio-3.6.2-py3-none-any.whl (80 kB)\n",
            "\u001b[2K     \u001b[90m━━━━━━━━━━━━━━━━━━━━━━━━━━━━━━━━━━━━━━━━\u001b[0m \u001b[32m80.6/80.6 KB\u001b[0m \u001b[31m13.6 MB/s\u001b[0m eta \u001b[36m0:00:00\u001b[0m\n",
            "\u001b[?25hRequirement already satisfied: pycparser in /usr/local/lib/python3.9/dist-packages (from cffi->fairseq==1.0.0a0+1a6f364->-r requirements.txt (line 7)) (2.21)\n",
            "Requirement already satisfied: certifi>=2017.4.17 in /usr/local/lib/python3.9/dist-packages (from requests->torchvision==0.14.1->-r requirements.txt (line 3)) (2022.12.7)\n",
            "Requirement already satisfied: urllib3<1.27,>=1.21.1 in /usr/local/lib/python3.9/dist-packages (from requests->torchvision==0.14.1->-r requirements.txt (line 3)) (1.26.14)\n",
            "Requirement already satisfied: chardet<5,>=3.0.2 in /usr/local/lib/python3.9/dist-packages (from requests->torchvision==0.14.1->-r requirements.txt (line 3)) (4.0.0)\n",
            "Requirement already satisfied: idna<3,>=2.5 in /usr/local/lib/python3.9/dist-packages (from requests->torchvision==0.14.1->-r requirements.txt (line 3)) (2.10)\n",
            "Collecting sniffio>=1.1\n",
            "  Downloading sniffio-1.3.0-py3-none-any.whl (10 kB)\n",
            "Building wheels for collected packages: fairseq, jamspell, mosestokenizer, antlr4-python3-runtime, docopt, toolwrapper, uctools\n",
            "  Building wheel for fairseq (pyproject.toml) ... \u001b[?25l\u001b[?25hdone\n",
            "  Created wheel for fairseq: filename=fairseq-1.0.0a0+1a6f364-cp39-cp39-linux_x86_64.whl size=11811602 sha256=8a207f7b53e7b3638636709d9c068c770f3cb35d9286218cb3b32ffbddbdb635\n",
            "  Stored in directory: /tmp/pip-ephem-wheel-cache-q33q8im3/wheels/7c/2f/88/80eacebb296174bb5a81ad8d4de3e3e200ffb0342161d57b95\n",
            "  \u001b[1;31merror\u001b[0m: \u001b[1msubprocess-exited-with-error\u001b[0m\n",
            "  \n",
            "  \u001b[31m×\u001b[0m \u001b[32mpython setup.py bdist_wheel\u001b[0m did not run successfully.\n",
            "  \u001b[31m│\u001b[0m exit code: \u001b[1;36m1\u001b[0m\n",
            "  \u001b[31m╰─>\u001b[0m See above for output.\n",
            "  \n",
            "  \u001b[1;35mnote\u001b[0m: This error originates from a subprocess, and is likely not a problem with pip.\n",
            "  Building wheel for jamspell (setup.py) ... \u001b[?25lerror\n",
            "\u001b[31m  ERROR: Failed building wheel for jamspell\u001b[0m\u001b[31m\n",
            "\u001b[0m\u001b[?25h  Running setup.py clean for jamspell\n",
            "  Building wheel for mosestokenizer (setup.py) ... \u001b[?25l\u001b[?25hdone\n",
            "  Created wheel for mosestokenizer: filename=mosestokenizer-1.2.1-py3-none-any.whl size=49188 sha256=ba631e0863c942609385f99d658d473851975e9a39b1f86621c4c20a85a817e4\n",
            "  Stored in directory: /root/.cache/pip/wheels/4b/1d/ca/6fb2622d3cec30ae4142be1e1ece4f879ef5efadd6a25b75f0\n",
            "  Building wheel for antlr4-python3-runtime (setup.py) ... \u001b[?25l\u001b[?25hdone\n",
            "  Created wheel for antlr4-python3-runtime: filename=antlr4_python3_runtime-4.8-py3-none-any.whl size=141231 sha256=3678f3913825fbbdf695728251582b74bd7166a16938edbd4ab4641ec6af14e7\n",
            "  Stored in directory: /root/.cache/pip/wheels/42/3c/ae/14db087e6018de74810afe32eb6ac890ef9c68ba19b00db97a\n",
            "  Building wheel for docopt (setup.py) ... \u001b[?25l\u001b[?25hdone\n",
            "  Created wheel for docopt: filename=docopt-0.6.2-py2.py3-none-any.whl size=13723 sha256=48a3bb519ec27b6d3661cdd30f3f6ffeb967d7b58056cb2be5ee51dcbb1b38da\n",
            "  Stored in directory: /root/.cache/pip/wheels/70/4a/46/1309fc853b8d395e60bafaf1b6df7845bdd82c95fd59dd8d2b\n",
            "  Building wheel for toolwrapper (setup.py) ... \u001b[?25l\u001b[?25hdone\n",
            "  Created wheel for toolwrapper: filename=toolwrapper-2.1.0-py3-none-any.whl size=3353 sha256=7538b9b758f3701422db902c5024b617f19560787d0a112a127b8b7901084d6a\n",
            "  Stored in directory: /root/.cache/pip/wheels/7f/fb/ad/2b280cddd52c15c21ac9599c2661fe8aec93778fb35da77c7f\n",
            "  Building wheel for uctools (setup.py) ... \u001b[?25l\u001b[?25hdone\n",
            "  Created wheel for uctools: filename=uctools-1.3.0-py3-none-any.whl size=6162 sha256=23a423a0efd07aa10fe282c75820efd7a12d3cc7c6623056242e6ecfefa42d26\n",
            "  Stored in directory: /root/.cache/pip/wheels/58/34/ff/68e3afc33b6758aeef228ea97955d8f79f125b91d9d45a09ae\n",
            "Successfully built fairseq mosestokenizer antlr4-python3-runtime docopt toolwrapper uctools\n",
            "Failed to build jamspell\n",
            "Installing collected packages: toolwrapper, swig, sentencepiece, openfile, jamspell, docopt, bitarray, antlr4-python3-runtime, uctools, sniffio, portalocker, pika, omegaconf, h11, colorama, uvicorn, sacrebleu, mosestokenizer, hydra-core, anyio, starlette, fairseq, fastapi\n",
            "  Running setup.py install for jamspell ... \u001b[?25l\u001b[?25hdone\n",
            "\u001b[33m  DEPRECATION: jamspell was installed using the legacy 'setup.py install' method, because a wheel could not be built for it. A possible replacement is to fix the wheel build issue reported above. Discussion can be found at https://github.com/pypa/pip/issues/8368\u001b[0m\u001b[33m\n",
            "\u001b[0mSuccessfully installed antlr4-python3-runtime-4.8 anyio-3.6.2 bitarray-2.7.3 colorama-0.4.6 docopt-0.6.2 fairseq-1.0.0a0+1a6f364 fastapi-0.92.0 h11-0.14.0 hydra-core-1.0.7 jamspell-0.0.12 mosestokenizer-1.2.1 omegaconf-2.0.6 openfile-0.0.7 pika-1.3.1 portalocker-2.7.0 sacrebleu-2.3.1 sentencepiece-0.1.97 sniffio-1.3.0 starlette-0.25.0 swig-3.0.12 toolwrapper-2.1.0 uctools-1.3.0 uvicorn-0.20.0\n",
            "[nltk_data] Downloading package punkt to /root/nltk_data...\n",
            "[nltk_data]   Unzipping tokenizers/punkt.zip.\n"
          ]
        }
      ],
      "source": [
        "! git clone https://koodivaramu.eesti.ee/tartunlp/corrector.git \n",
        "%cd corrector\n",
        "! pip install -r requirements.txt\n",
        "! python -c \"import nltk; nltk.download(\\\"punkt\\\")\"\n"
      ]
    },
    {
      "cell_type": "code",
      "execution_count": 2,
      "metadata": {
        "colab": {
          "base_uri": "https://localhost:8080/"
        },
        "id": "Az5q9Jz27U3L",
        "outputId": "36ff947d-2a84-41f6-d972-8aa38cdcb735"
      },
      "outputs": [
        {
          "output_type": "stream",
          "name": "stdout",
          "text": [
            "Updated git hooks.\n",
            "Git LFS initialized.\n",
            "Cloning into 'GEC-noisy-nmt-ut'...\n",
            "remote: Enumerating objects: 19, done.\u001b[K\n",
            "remote: Counting objects: 100% (19/19), done.\u001b[K\n",
            "remote: Compressing objects: 100% (18/18), done.\u001b[K\n",
            "remote: Total 19 (delta 5), reused 0 (delta 0), pack-reused 0\u001b[K\n",
            "Unpacking objects: 100% (19/19), 63.25 KiB | 7.03 MiB/s, done.\n",
            "Cloning into 'GEC-synthetic-pretrain-ut-ft'...\n",
            "remote: Enumerating objects: 21, done.\u001b[K\n",
            "remote: Counting objects: 100% (21/21), done.\u001b[K\n",
            "remote: Compressing objects: 100% (20/20), done.\u001b[K\n",
            "remote: Total 21 (delta 6), reused 0 (delta 0), pack-reused 0\u001b[K\n",
            "Unpacking objects: 100% (21/21), 63.46 KiB | 6.35 MiB/s, done.\n",
            "Filtering content: 100% (4/4), 828.89 MiB | 70.29 MiB/s, done.\n",
            "Cloning into 'etnc19_reference_corpus_model_6000000_lines'...\n",
            "remote: Enumerating objects: 12, done.\u001b[K\n",
            "remote: Counting objects: 100% (12/12), done.\u001b[K\n",
            "remote: Compressing objects: 100% (10/10), done.\u001b[K\n",
            "remote: Total 12 (delta 2), reused 0 (delta 0), pack-reused 0\u001b[K\n",
            "Unpacking objects: 100% (12/12), 1.39 KiB | 713.00 KiB/s, done.\n",
            "Cloning into 'etnc19_web_2019'...\n",
            "remote: Enumerating objects: 6, done.\u001b[K\n",
            "remote: Counting objects: 100% (6/6), done.\u001b[K\n",
            "remote: Compressing objects: 100% (5/5), done.\u001b[K\n",
            "remote: Total 6 (delta 0), reused 0 (delta 0), pack-reused 0\u001b[K\n",
            "Unpacking objects: 100% (6/6), 815 bytes | 815.00 KiB/s, done.\n",
            "Cloning into 'etnc19_reference_corpus_6000000_web_2019_600000'...\n",
            "remote: Enumerating objects: 6, done.\u001b[K\n",
            "remote: Counting objects: 100% (6/6), done.\u001b[K\n",
            "remote: Compressing objects: 100% (5/5), done.\u001b[K\n",
            "remote: Total 6 (delta 0), reused 0 (delta 0), pack-reused 0\u001b[K\n",
            "Unpacking objects: 100% (6/6), 855 bytes | 855.00 KiB/s, done.\n"
          ]
        }
      ],
      "source": [
        "! git lfs install\n",
        "\n",
        "# GEC models\n",
        "\n",
        "! cd models && git clone https://huggingface.co/TartuNLP/GEC-noisy-nmt-ut\n",
        "! cd models && git clone https://huggingface.co/TartuNLP/GEC-synthetic-pretrain-ut-ft\n",
        "\n",
        "# Spell models\n",
        "\n",
        "! cd models/spellmodels && git clone https://huggingface.co/Jaagup/etnc19_reference_corpus_model_6000000_lines\n",
        "! cd models/spellmodels && git clone https://huggingface.co/Jaagup/etnc19_web_2019\n",
        "! cd models/spellmodels && git clone https://huggingface.co/Jaagup/etnc19_reference_corpus_6000000_web_2019_600000\n"
      ]
    },
    {
      "cell_type": "markdown",
      "source": [
        "## Models in action\n",
        "It is possible to use only speller or only GEC model or both models."
      ],
      "metadata": {
        "id": "QbZGDGhWvElx"
      }
    },
    {
      "cell_type": "code",
      "execution_count": null,
      "metadata": {
        "id": "yYqG3Yi45jPd"
      },
      "outputs": [],
      "source": [
        "from pprint import pprint\n",
        "from dataclasses import asdict\n",
        "from gec_worker import GEC, read_model_config\n",
        "from gec_worker import spelling\n",
        "from gec_worker.dataclasses import Response, Request\n",
        "from gec_worker import multiple_corrections\n"
      ]
    },
    {
      "cell_type": "markdown",
      "source": [
        "### Loading the models\n"
      ],
      "metadata": {
        "id": "iPNFtRwDxonZ"
      }
    },
    {
      "cell_type": "markdown",
      "source": [
        "Two available GEC models are\n",
        "\n",
        "* `GEC-synthetic-pretrain-ut-ft` - > slightly higher precision & lower recall (preferred)\n",
        "* `GEC-noisy-nmt-ut` - > slightly higher recall & lower precision "
      ],
      "metadata": {
        "id": "WvcvXpiGvH2t"
      }
    },
    {
      "cell_type": "code",
      "execution_count": 4,
      "metadata": {
        "id": "cOEDlt7I6ceg"
      },
      "outputs": [],
      "source": [
        "# Let's first load the second model\n",
        "\n",
        "model_config = read_model_config('models/GEC-noisy-nmt-ut-config.yaml')\n",
        "gec = GEC(model_config)\n"
      ]
    },
    {
      "cell_type": "markdown",
      "source": [
        "Three available spell-checking models are\n",
        "\n",
        "* `etnc19_reference_corpus_6000000` - > highest recall, lowest precision\n",
        "* `etnc19_web_2019` - > highest precision, lowest recall\n",
        "* `etnc19_reference_corpus_6000000_web_2019_600000` - > average precision, average recall"
      ],
      "metadata": {
        "id": "5pe2EpSRvm_e"
      }
    },
    {
      "cell_type": "code",
      "execution_count": 5,
      "metadata": {
        "id": "DyeHWOwm7eT1"
      },
      "outputs": [],
      "source": [
        "# Let's first load the last model, longer wait (few minutes)\n",
        "\n",
        "speller = spelling.Spelling(\"etnc19_reference_corpus_6000000_web_2019_600000/etnc19_reference_corpus_6000000_web_2019_600000.bin\")\n"
      ]
    },
    {
      "cell_type": "markdown",
      "source": [
        "### Prepearing input data\n",
        "\n",
        "From Str to Request."
      ],
      "metadata": {
        "id": "5tbPr16syA4I"
      }
    },
    {
      "cell_type": "code",
      "execution_count": 6,
      "metadata": {
        "id": "IHNv-0qp_2T_"
      },
      "outputs": [],
      "source": [
        "source_text=\"Ükss väega vikase lause olema see\"\n",
        "request = Request(text=source_text, language='et')\n"
      ]
    },
    {
      "cell_type": "markdown",
      "source": [
        "### Spell-checking\n",
        "\n",
        "Only applying speller."
      ],
      "metadata": {
        "id": "0-Q8U6MJx6Yp"
      }
    },
    {
      "cell_type": "code",
      "execution_count": 7,
      "metadata": {
        "id": "3VXw6Z4UggQ_",
        "colab": {
          "base_uri": "https://localhost:8080/",
          "height": 174
        },
        "outputId": "8ee1656e-e044-4b3e-bbf8-024f3d9ee81c"
      },
      "outputs": [
        {
          "output_type": "stream",
          "name": "stdout",
          "text": [
            "{'corrected_text': 'Üks väega vigase lause olema see',\n",
            " 'corrections': [{'replacements': [{'value': 'Üks'}],\n",
            "                  'span': {'end': 4, 'start': 0, 'value': 'Ükss'}},\n",
            "                 {'replacements': [{'value': 'vigase'}],\n",
            "                  'span': {'end': 17, 'start': 11, 'value': 'vikase'}}],\n",
            " 'original_text': 'Ükss väega vikase lause olema see',\n",
            " 'status': 'OK',\n",
            " 'status_code': 200}\n"
          ]
        },
        {
          "output_type": "execute_result",
          "data": {
            "text/plain": [
              "'Üks väega vigase lause olema see'"
            ],
            "application/vnd.google.colaboratory.intrinsic+json": {
              "type": "string"
            }
          },
          "metadata": {},
          "execution_count": 7
        }
      ],
      "source": [
        "response = speller.process_request(request)\n",
        "pprint(asdict(response))\n",
        "response.corrected_text\n"
      ]
    },
    {
      "cell_type": "markdown",
      "source": [
        "### Grammatical error correction\n",
        "\n",
        "Only applying the GEC model."
      ],
      "metadata": {
        "id": "LHm1OHpayY2C"
      }
    },
    {
      "cell_type": "code",
      "execution_count": 8,
      "metadata": {
        "id": "sOie7rcGgXgL",
        "colab": {
          "base_uri": "https://localhost:8080/",
          "height": 174
        },
        "outputId": "2777a17c-ae40-4308-d496-5c80e9af8369"
      },
      "outputs": [
        {
          "output_type": "stream",
          "name": "stdout",
          "text": [
            "{'corrected_text': 'Üks vägeva vikase lause on see.',\n",
            " 'corrections': [{'replacements': [{'value': 'Üks vägeva'}],\n",
            "                  'span': {'end': 10, 'start': 0, 'value': 'Ükss väega'}},\n",
            "                 {'replacements': [{'value': 'on see.'}],\n",
            "                  'span': {'end': 33, 'start': 24, 'value': 'olema see'}}],\n",
            " 'original_text': 'Ükss väega vikase lause olema see',\n",
            " 'status': 'OK',\n",
            " 'status_code': 200}\n"
          ]
        },
        {
          "output_type": "execute_result",
          "data": {
            "text/plain": [
              "'Üks vägeva vikase lause on see.'"
            ],
            "application/vnd.google.colaboratory.intrinsic+json": {
              "type": "string"
            }
          },
          "metadata": {},
          "execution_count": 8
        }
      ],
      "source": [
        "response = gec.process_request(request)\n",
        "pprint(asdict(response))\n",
        "response.corrected_text\n"
      ]
    },
    {
      "cell_type": "markdown",
      "source": [
        "### Spell-checking and GEC\n",
        "\n",
        "To determine the order in which the correctors are applied, create a model list using the MultipleCorrections class and then add the speller and GEC corrector to the list sequentially."
      ],
      "metadata": {
        "id": "BxohcCS8ysMr"
      }
    },
    {
      "cell_type": "code",
      "execution_count": 9,
      "metadata": {
        "id": "Ta3tn9SW7ksk"
      },
      "outputs": [],
      "source": [
        "model_list = multiple_corrections.MultipleCorrections()\n",
        "model_list.add_corrector(speller)\n",
        "model_list.add_corrector(gec)\n"
      ]
    },
    {
      "cell_type": "code",
      "execution_count": 10,
      "metadata": {
        "id": "IWq3RXgH7vJB",
        "colab": {
          "base_uri": "https://localhost:8080/",
          "height": 209
        },
        "outputId": "10478062-e080-49be-f37a-92b8189e8934"
      },
      "outputs": [
        {
          "output_type": "stream",
          "name": "stdout",
          "text": [
            "{'corrected_text': 'Üks väga vigane lause on see.',\n",
            " 'corrections': [{'replacements': [{'value': 'Üks väga vigane'}],\n",
            "                  'span': {'end': 17,\n",
            "                           'start': 0,\n",
            "                           'value': 'Ükss väega vikase'}},\n",
            "                 {'replacements': [{'value': 'on see.'}],\n",
            "                  'span': {'end': 33, 'start': 24, 'value': 'olema see'}}],\n",
            " 'original_text': 'Ükss väega vikase lause olema see',\n",
            " 'status': 'OK',\n",
            " 'status_code': 200}\n"
          ]
        },
        {
          "output_type": "execute_result",
          "data": {
            "text/plain": [
              "'Üks väga vigane lause on see.'"
            ],
            "application/vnd.google.colaboratory.intrinsic+json": {
              "type": "string"
            }
          },
          "metadata": {},
          "execution_count": 10
        }
      ],
      "source": [
        "response = model_list.process_request(request)\n",
        "pprint(asdict(response))\n",
        "response.corrected_text\n"
      ]
    },
    {
      "cell_type": "markdown",
      "source": [
        "## Comparing the models\n",
        "\n",
        "There are two GEC and three spell-checking models that exhibit varying behaviors, here are some examples of that."
      ],
      "metadata": {
        "id": "vngfOkoBR9U9"
      }
    },
    {
      "cell_type": "markdown",
      "source": [
        "### Two GEC models\n",
        "\n",
        "The GEC-noisy-nmt-ut model exhibits higher error correction capability but is prone to confusion, while the GEC-synthetic-pretrain-ut-ft model is more stable but corrects fewer errors."
      ],
      "metadata": {
        "id": "BrahklQCzTRz"
      }
    },
    {
      "cell_type": "code",
      "execution_count": 11,
      "metadata": {
        "id": "Mkd3qDFbifnz"
      },
      "outputs": [],
      "source": [
        "model_config_sp = read_model_config('models/GEC-synthetic-pretrain-ut-ft-config.yaml')\n",
        "gec_sp = GEC(model_config_sp)\n",
        "\n",
        "model_config_nmt = read_model_config('models/GEC-noisy-nmt-ut-config.yaml')\n",
        "gec_nmt = GEC(model_config_nmt)"
      ]
    },
    {
      "cell_type": "code",
      "execution_count": 12,
      "metadata": {
        "id": "VuH4R4WbjUAW"
      },
      "outputs": [],
      "source": [
        "source_text_longer = \"Gramatikliste veade parantamine on põõnev ülessanne. Ükss väega vikase lause olema see. Mudel oskama selles ikka parandusi luua.\"\n",
        "request_longer = Request(text=source_text_longer, language='et')\n"
      ]
    },
    {
      "cell_type": "code",
      "source": [
        "response_sp = gec_sp.process_request(request_longer)\n",
        "#pprint(asdict(response_sp))\n",
        "response_sp.corrected_text\n"
      ],
      "metadata": {
        "colab": {
          "base_uri": "https://localhost:8080/",
          "height": 35
        },
        "id": "H80pVK900Rwg",
        "outputId": "5f7d0578-1f05-4cd9-86f6-16c0179014c0"
      },
      "execution_count": 13,
      "outputs": [
        {
          "output_type": "execute_result",
          "data": {
            "text/plain": [
              "'Grammatiliste veade parandamine on põnev ülesanne. Üks väga vigane lause on see. Mudel oskab selles ikka parandusi luua.'"
            ],
            "application/vnd.google.colaboratory.intrinsic+json": {
              "type": "string"
            }
          },
          "metadata": {},
          "execution_count": 13
        }
      ]
    },
    {
      "cell_type": "code",
      "source": [
        "response_nmt = gec_nmt.process_request(request_longer)\n",
        "#pprint(asdict(response_nmt))\n",
        "response_nmt.corrected_text\n"
      ],
      "metadata": {
        "colab": {
          "base_uri": "https://localhost:8080/",
          "height": 35
        },
        "id": "5pYflNUc0ZIq",
        "outputId": "232677ef-133d-468d-f92b-f24db0bf4179"
      },
      "execution_count": 14,
      "outputs": [
        {
          "output_type": "execute_result",
          "data": {
            "text/plain": [
              "'Grammatiliste vigade parandamine on põdev ülesseamine. Üks vägeva vikase lause on see. Mudel oskab selles ikka parandusi teha.'"
            ],
            "application/vnd.google.colaboratory.intrinsic+json": {
              "type": "string"
            }
          },
          "metadata": {},
          "execution_count": 14
        }
      ]
    },
    {
      "cell_type": "markdown",
      "source": [
        "### Three spellers\n"
      ],
      "metadata": {
        "id": "6DqnFkU83c6D"
      }
    },
    {
      "cell_type": "code",
      "source": [
        "source_text_spell = \"Gramatikliste veade parantamine on põnev ülessanne. Ükss väega vikane lause on see. Mudel osgab seda ikla parandada.\"\n",
        "request_spell = Request(text=source_text_spell, language='et')\n"
      ],
      "metadata": {
        "id": "FLJtNYvf4gCe"
      },
      "execution_count": 21,
      "outputs": []
    },
    {
      "cell_type": "code",
      "source": [
        "# using the model we loaded previously, etnc19_reference_corpus_6000000_web_2019_600000\n",
        "\n",
        "speller_ref_web = speller # spelling.Spelling(\"etnc19_reference_corpus_6000000_web_2019_600000/etnc19_reference_corpus_6000000_web_2019_600000.bin\")\n",
        "response = speller_ref_web.process_request(request_spell)\n",
        "#pprint(asdict(response))\n",
        "response.corrected_text\n"
      ],
      "metadata": {
        "colab": {
          "base_uri": "https://localhost:8080/",
          "height": 35
        },
        "id": "RHnetW2K4MUE",
        "outputId": "dba0e2db-5295-4458-ce3c-3fe12d70af48"
      },
      "execution_count": 20,
      "outputs": [
        {
          "output_type": "execute_result",
          "data": {
            "text/plain": [
              "'Dramaatiliste teade parandamine on põnev ülessanne. Üks väega vigane lause on see. Mudel oskab seda ikla parandada.'"
            ],
            "application/vnd.google.colaboratory.intrinsic+json": {
              "type": "string"
            }
          },
          "metadata": {},
          "execution_count": 20
        }
      ]
    },
    {
      "cell_type": "code",
      "source": [
        "speller_ref = spelling.Spelling(\"etnc19_reference_corpus_model_6000000_lines/etnc19_reference_corpus_model_6000000_lines.bin\")\n",
        "response = speller_ref.process_request(request_spell)\n",
        "#pprint(asdict(response))\n",
        "response.corrected_text\n"
      ],
      "metadata": {
        "colab": {
          "base_uri": "https://localhost:8080/",
          "height": 35
        },
        "id": "068w0Naj3hBM",
        "outputId": "90f8adf6-a560-46b5-852e-88ae404022bf"
      },
      "execution_count": 19,
      "outputs": [
        {
          "output_type": "execute_result",
          "data": {
            "text/plain": [
              "'Dramaatiliste teade parandamine on põnev ülesanne. Üks väega vigane lause on see. Mudel oskab seda ikla parandada.'"
            ],
            "application/vnd.google.colaboratory.intrinsic+json": {
              "type": "string"
            }
          },
          "metadata": {},
          "execution_count": 19
        }
      ]
    },
    {
      "cell_type": "code",
      "source": [
        "speller_web = spelling.Spelling(\"etnc19_web_2019/etnc19_web_2019.bin\")\n",
        "response = speller_web.process_request(request_spell)\n",
        "#pprint(asdict(response))\n",
        "response.corrected_text\n"
      ],
      "metadata": {
        "colab": {
          "base_uri": "https://localhost:8080/",
          "height": 35
        },
        "id": "SdH4KsN84T88",
        "outputId": "d9baa852-f5a2-41f1-8ce6-9edc63270565"
      },
      "execution_count": 18,
      "outputs": [
        {
          "output_type": "execute_result",
          "data": {
            "text/plain": [
              "'Gramatikliste veade parantamine on põnev ülessanne. Ükss väega vikane lause on see. Mudel oskab seda ikka parandada.'"
            ],
            "application/vnd.google.colaboratory.intrinsic+json": {
              "type": "string"
            }
          },
          "metadata": {},
          "execution_count": 18
        }
      ]
    }
  ],
  "metadata": {
    "accelerator": "GPU",
    "colab": {
      "provenance": [],
      "include_colab_link": true
    },
    "gpuClass": "standard",
    "kernelspec": {
      "display_name": "Python 3",
      "name": "python3"
    },
    "language_info": {
      "name": "python"
    }
  },
  "nbformat": 4,
  "nbformat_minor": 0
}